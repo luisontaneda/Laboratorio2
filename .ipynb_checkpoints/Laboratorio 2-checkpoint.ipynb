{
 "cells": [
  {
   "cell_type": "code",
   "execution_count": 129,
   "metadata": {},
   "outputs": [],
   "source": [
    "import pandas_datareader.data as web\n",
    "from datetime import date\n",
    "import pandas as pd\n",
    "from sklearn.linear_model import LinearRegression\n",
    "from sklearn.model_selection import train_test_split\n",
    "import matplotlib.pyplot as plt\n",
    "import numpy as np\n",
    "from sklearn.metrics import accuracy_score"
   ]
  },
  {
   "cell_type": "markdown",
   "metadata": {},
   "source": [
    "Proponemos fechas y descargamos datos"
   ]
  },
  {
   "cell_type": "code",
   "execution_count": 6,
   "metadata": {},
   "outputs": [],
   "source": [
    "start = date(year = 2018, month = 10, day = 4)\n",
    "end = date.today()"
   ]
  },
  {
   "cell_type": "code",
   "execution_count": 10,
   "metadata": {},
   "outputs": [],
   "source": [
    "jpy = web.DataReader('DEXJPUS', 'fred',start,end)\n",
    "eur = web.DataReader('DEXUSEU', 'fred',start,end)\n",
    "can = web.DataReader('DEXCAUS', 'fred',start,end)\n",
    "uk = web.DataReader('DEXUSUK', 'fred',start,end)\n",
    "aus = web.DataReader('DEXUSAL', 'fred',start,end)\n",
    "swi = web.DataReader('DEXSZUS', 'fred',start,end)"
   ]
  },
  {
   "cell_type": "code",
   "execution_count": 75,
   "metadata": {},
   "outputs": [],
   "source": [
    "x = jpy.join([can,uk,aus,swi]).dropna()\n",
    "y = eur.dropna()"
   ]
  },
  {
   "cell_type": "markdown",
   "metadata": {},
   "source": [
    "Separamos variables en entrenamiento y prueba para que sea mas certero nuestro modelo"
   ]
  },
  {
   "cell_type": "code",
   "execution_count": 78,
   "metadata": {},
   "outputs": [],
   "source": [
    "X_train, X_test, y_train, y_test = train_test_split(x, y, test_size=0.2, random_state=0)"
   ]
  },
  {
   "cell_type": "markdown",
   "metadata": {},
   "source": [
    "Se puede ver que las variables tienen una buena correlación con el alto coeficiente de determinación, mayor a 75%\n",
    "El modelo puede realizar predicciones bastante buenas"
   ]
  },
  {
   "cell_type": "code",
   "execution_count": 54,
   "metadata": {},
   "outputs": [
    {
     "data": {
      "text/html": [
       "<div>\n",
       "<style scoped>\n",
       "    .dataframe tbody tr th:only-of-type {\n",
       "        vertical-align: middle;\n",
       "    }\n",
       "\n",
       "    .dataframe tbody tr th {\n",
       "        vertical-align: top;\n",
       "    }\n",
       "\n",
       "    .dataframe thead th {\n",
       "        text-align: right;\n",
       "    }\n",
       "</style>\n",
       "<table border=\"1\" class=\"dataframe\">\n",
       "  <thead>\n",
       "    <tr style=\"text-align: right;\">\n",
       "      <th></th>\n",
       "      <th>DEXJPUS</th>\n",
       "      <th>DEXCAUS</th>\n",
       "      <th>DEXUSUK</th>\n",
       "      <th>DEXUSAL</th>\n",
       "      <th>DEXSZUS</th>\n",
       "    </tr>\n",
       "  </thead>\n",
       "  <tbody>\n",
       "    <tr>\n",
       "      <th>DEXJPUS</th>\n",
       "      <td>1.000000</td>\n",
       "      <td>0.002746</td>\n",
       "      <td>0.704751</td>\n",
       "      <td>0.798209</td>\n",
       "      <td>0.624111</td>\n",
       "    </tr>\n",
       "    <tr>\n",
       "      <th>DEXCAUS</th>\n",
       "      <td>0.002746</td>\n",
       "      <td>1.000000</td>\n",
       "      <td>0.041904</td>\n",
       "      <td>-0.115517</td>\n",
       "      <td>0.345948</td>\n",
       "    </tr>\n",
       "    <tr>\n",
       "      <th>DEXUSUK</th>\n",
       "      <td>0.704751</td>\n",
       "      <td>0.041904</td>\n",
       "      <td>1.000000</td>\n",
       "      <td>0.712788</td>\n",
       "      <td>0.598196</td>\n",
       "    </tr>\n",
       "    <tr>\n",
       "      <th>DEXUSAL</th>\n",
       "      <td>0.798209</td>\n",
       "      <td>-0.115517</td>\n",
       "      <td>0.712788</td>\n",
       "      <td>1.000000</td>\n",
       "      <td>0.358937</td>\n",
       "    </tr>\n",
       "    <tr>\n",
       "      <th>DEXSZUS</th>\n",
       "      <td>0.624111</td>\n",
       "      <td>0.345948</td>\n",
       "      <td>0.598196</td>\n",
       "      <td>0.358937</td>\n",
       "      <td>1.000000</td>\n",
       "    </tr>\n",
       "  </tbody>\n",
       "</table>\n",
       "</div>"
      ],
      "text/plain": [
       "          DEXJPUS   DEXCAUS   DEXUSUK   DEXUSAL   DEXSZUS\n",
       "DEXJPUS  1.000000  0.002746  0.704751  0.798209  0.624111\n",
       "DEXCAUS  0.002746  1.000000  0.041904 -0.115517  0.345948\n",
       "DEXUSUK  0.704751  0.041904  1.000000  0.712788  0.598196\n",
       "DEXUSAL  0.798209 -0.115517  0.712788  1.000000  0.358937\n",
       "DEXSZUS  0.624111  0.345948  0.598196  0.358937  1.000000"
      ]
     },
     "execution_count": 54,
     "metadata": {},
     "output_type": "execute_result"
    }
   ],
   "source": [
    "x.corr()"
   ]
  },
  {
   "cell_type": "code",
   "execution_count": 79,
   "metadata": {},
   "outputs": [],
   "source": [
    "r_sq = model.score(x, eur)"
   ]
  },
  {
   "cell_type": "code",
   "execution_count": 80,
   "metadata": {},
   "outputs": [
    {
     "data": {
      "text/plain": [
       "0.7668405678127705"
      ]
     },
     "execution_count": 80,
     "metadata": {},
     "output_type": "execute_result"
    }
   ],
   "source": [
    "r_sq"
   ]
  },
  {
   "cell_type": "code",
   "execution_count": 82,
   "metadata": {},
   "outputs": [],
   "source": [
    "regressor = LinearRegression()  \n",
    "regressor.fit(X_train, y_train)\n",
    "y_pred = regressor.predict(X_test)\n",
    "y_pred = pd.DataFrame(y_pred)"
   ]
  },
  {
   "cell_type": "code",
   "execution_count": 112,
   "metadata": {},
   "outputs": [],
   "source": [
    "df = y_test.reset_index().join(y_pred)\n",
    "df = df.set_index(df.iloc[:,0]).drop([\"DATE\"],axis=1)\n",
    "df = df.rename({0:\"EurPred\"},axis=1)"
   ]
  },
  {
   "cell_type": "code",
   "execution_count": 126,
   "metadata": {},
   "outputs": [
    {
     "data": {
      "text/plain": [
       "[<matplotlib.lines.Line2D at 0x1a174236d8>]"
      ]
     },
     "execution_count": 126,
     "metadata": {},
     "output_type": "execute_result"
    },
    {
     "data": {
      "image/png": "[encoded data removed]",
      "text/plain": [
       "<matplotlib.figure.Figure at 0x1a1723f518>"
      ]
     },
     "metadata": {},
     "output_type": "display_data"
    }
   ],
   "source": [
    "plt.plot(np.arange(len(df.index)),y_pred)"
   ]
  },
  {
   "cell_type": "code",
   "execution_count": 127,
   "metadata": {},
   "outputs": [
    {
     "data": {
      "text/plain": [
       "[<matplotlib.lines.Line2D at 0x1a16e05f28>]"
      ]
     },
     "execution_count": 127,
     "metadata": {},
     "output_type": "execute_result"
    },
    {
     "data": {
      "image/png": "[encoded data removed]",
      "text/plain": [
       "<matplotlib.figure.Figure at 0x1a17423c88>"
      ]
     },
     "metadata": {},
     "output_type": "display_data"
    }
   ],
   "source": [
    "plt.plot(np.arange(len(df.index)),y_test)"
   ]
  },
  {
   "cell_type": "markdown",
   "metadata": {},
   "source": [
    "Como se puede observar los valores son muy parecidos, las tendencias son casi iguales"
   ]
  }
 ],
 "metadata": {
  "kernelspec": {
   "display_name": "Python 3",
   "language": "python",
   "name": "python3"
  },
  "language_info": {
   "codemirror_mode": {
    "name": "ipython",
    "version": 3
   },
   "file_extension": ".py",
   "mimetype": "text/x-python",
   "name": "python",
   "nbconvert_exporter": "python",
   "pygments_lexer": "ipython3",
   "version": "3.6.4"
  }
 },
 "nbformat": 4,
 "nbformat_minor": 2
}
